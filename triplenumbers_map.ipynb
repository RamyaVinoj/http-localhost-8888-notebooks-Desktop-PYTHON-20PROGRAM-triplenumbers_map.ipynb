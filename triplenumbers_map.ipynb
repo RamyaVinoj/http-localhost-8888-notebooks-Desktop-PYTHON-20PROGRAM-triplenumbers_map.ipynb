{
 "cells": [
  {
   "cell_type": "markdown",
   "id": "7298bd47",
   "metadata": {},
   "source": [
    "# triple all numbers of a given list of integers using Python map"
   ]
  },
  {
   "cell_type": "code",
   "execution_count": 6,
   "id": "364abe5e",
   "metadata": {},
   "outputs": [
    {
     "data": {
      "text/plain": [
       "[3, 6, 9, 12, 15, 18, 21]"
      ]
     },
     "execution_count": 6,
     "metadata": {},
     "output_type": "execute_result"
    }
   ],
   "source": [
    "def triple(a):\n",
    "    return a*3\n",
    "l = [1,2,3,4,5,6,7]\n",
    "y = map(triple,l)\n",
    "list(y)"
   ]
  },
  {
   "cell_type": "code",
   "execution_count": null,
   "id": "e7919d90",
   "metadata": {},
   "outputs": [],
   "source": []
  },
  {
   "cell_type": "code",
   "execution_count": null,
   "id": "ddc47379",
   "metadata": {},
   "outputs": [],
   "source": []
  }
 ],
 "metadata": {
  "kernelspec": {
   "display_name": "Python 3 (ipykernel)",
   "language": "python",
   "name": "python3"
  },
  "language_info": {
   "codemirror_mode": {
    "name": "ipython",
    "version": 3
   },
   "file_extension": ".py",
   "mimetype": "text/x-python",
   "name": "python",
   "nbconvert_exporter": "python",
   "pygments_lexer": "ipython3",
   "version": "3.10.0"
  }
 },
 "nbformat": 4,
 "nbformat_minor": 5
}
